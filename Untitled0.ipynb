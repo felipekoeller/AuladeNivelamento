{
  "nbformat": 4,
  "nbformat_minor": 0,
  "metadata": {
    "colab": {
      "name": "Untitled0.ipynb",
      "version": "0.3.2",
      "provenance": [],
      "collapsed_sections": [],
      "include_colab_link": true
    },
    "kernelspec": {
      "name": "python3",
      "display_name": "Python 3"
    }
  },
  "cells": [
    {
      "cell_type": "markdown",
      "metadata": {
        "id": "view-in-github",
        "colab_type": "text"
      },
      "source": [
        "<a href=\"https://colab.research.google.com/github/felipekoeller/AuladeNivelamento/blob/master/Untitled0.ipynb\" target=\"_parent\"><img src=\"https://colab.research.google.com/assets/colab-badge.svg\" alt=\"Open In Colab\"/></a>"
      ]
    },
    {
      "metadata": {
        "id": "NmMrYoq4dopt",
        "colab_type": "code",
        "outputId": "a2926e29-4396-49b3-8b90-10030a18ebde",
        "colab": {
          "base_uri": "https://localhost:8080/",
          "height": 34
        }
      },
      "cell_type": "code",
      "source": [
        "Lista = (1,2,3,4,5,6,7,8,9,10)\n",
        "somatorio = Lista[0]+Lista[1]\n",
        "somatorio"
      ],
      "execution_count": 0,
      "outputs": [
        {
          "output_type": "execute_result",
          "data": {
            "text/plain": [
              "3"
            ]
          },
          "metadata": {
            "tags": []
          },
          "execution_count": 19
        }
      ]
    },
    {
      "metadata": {
        "id": "faxawRbGmvEs",
        "colab_type": "code",
        "outputId": "d3c903ec-d45a-40f5-a5d2-55d755737f32",
        "colab": {
          "base_uri": "https://localhost:8080/",
          "height": 35
        }
      },
      "cell_type": "code",
      "source": [
        "Lista = [1,2,3,4,5,6,7,8,9,10]\n",
        "somatorio = 0\n",
        "for x in Lista:\n",
        "    somatorio = somatorio + x\n",
        "somatorio"
      ],
      "execution_count": 0,
      "outputs": [
        {
          "output_type": "execute_result",
          "data": {
            "text/plain": [
              "55"
            ]
          },
          "metadata": {
            "tags": []
          },
          "execution_count": 25
        }
      ]
    },
    {
      "metadata": {
        "id": "ePLZpTw2pk6X",
        "colab_type": "code",
        "colab": {}
      },
      "cell_type": "code",
      "source": [
        "y=0\n",
        "if (x>1):\n",
        "  y=y+x\n",
        "else:\n",
        "  y=1"
      ],
      "execution_count": 0,
      "outputs": []
    },
    {
      "metadata": {
        "id": "tSEPug82rM6y",
        "colab_type": "code",
        "outputId": "09865463-7820-4545-c87a-49ab0fbcb19c",
        "colab": {
          "base_uri": "https://localhost:8080/",
          "height": 34
        }
      },
      "cell_type": "code",
      "source": [
        "Lista = [1,2,3,4,5,6,7,8,9,10]\n",
        "arbitrario = 5\n",
        "contador = 0\n",
        "for x in Lista:\n",
        "    if x == arbitrario:\n",
        "     print (arbitrario, \"esta na lista na posicao\", contador+1)\n",
        "    else:\n",
        "     contador = contador + 1\n",
        "if contador == len (Lista):\n",
        "     print (arbitrario, \"nao esta na lista\")"
      ],
      "execution_count": 0,
      "outputs": [
        {
          "output_type": "stream",
          "text": [
            "5 esta na lista na posicao 5\n"
          ],
          "name": "stdout"
        }
      ]
    },
    {
      "metadata": {
        "id": "glHDiPM4su1w",
        "colab_type": "code",
        "outputId": "748727c8-4879-44a0-8d7c-0df552f503c7",
        "colab": {
          "base_uri": "https://localhost:8080/",
          "height": 34
        }
      },
      "cell_type": "code",
      "source": [
        "Nota = {\"José\": 3.5 , \"João\": 10.0 , \"Maria\": 7.5 , \"Pedro\": 4.2}\n",
        "Nota [\"Pedro\"]"
      ],
      "execution_count": 0,
      "outputs": [
        {
          "output_type": "execute_result",
          "data": {
            "text/plain": [
              "4.2"
            ]
          },
          "metadata": {
            "tags": []
          },
          "execution_count": 2
        }
      ]
    },
    {
      "metadata": {
        "id": "aXAGnODgPTaW",
        "colab_type": "code",
        "outputId": "2c6891be-91d9-4898-ecb0-2d6b33d5716d",
        "colab": {
          "base_uri": "https://localhost:8080/",
          "height": 34
        }
      },
      "cell_type": "code",
      "source": [
        "Nota [\"José\"]"
      ],
      "execution_count": 0,
      "outputs": [
        {
          "output_type": "execute_result",
          "data": {
            "text/plain": [
              "3.5"
            ]
          },
          "metadata": {
            "tags": []
          },
          "execution_count": 4
        }
      ]
    },
    {
      "metadata": {
        "id": "D-AlM77JPaQs",
        "colab_type": "code",
        "outputId": "a40a0c2c-1857-4595-eebe-e3a663f51133",
        "colab": {
          "base_uri": "https://localhost:8080/",
          "height": 34
        }
      },
      "cell_type": "code",
      "source": [
        "Nota [\"Maria\"]"
      ],
      "execution_count": 0,
      "outputs": [
        {
          "output_type": "execute_result",
          "data": {
            "text/plain": [
              "7.5"
            ]
          },
          "metadata": {
            "tags": []
          },
          "execution_count": 5
        }
      ]
    },
    {
      "metadata": {
        "id": "G_GbacXPPlO6",
        "colab_type": "code",
        "outputId": "0c592247-0a0a-4f6f-9009-8e02fb8bea59",
        "colab": {
          "base_uri": "https://localhost:8080/",
          "height": 34
        }
      },
      "cell_type": "code",
      "source": [
        "Nota [\"José\"] + Nota [\"Maria\"] / 2"
      ],
      "execution_count": 0,
      "outputs": [
        {
          "output_type": "execute_result",
          "data": {
            "text/plain": [
              "7.25"
            ]
          },
          "metadata": {
            "tags": []
          },
          "execution_count": 6
        }
      ]
    },
    {
      "metadata": {
        "id": "FUiBB3nCRj_S",
        "colab_type": "code",
        "outputId": "585ffff6-938a-466c-e353-4b4f06972f12",
        "colab": {
          "base_uri": "https://localhost:8080/",
          "height": 34
        }
      },
      "cell_type": "code",
      "source": [
        "sum (Lista)"
      ],
      "execution_count": 0,
      "outputs": [
        {
          "output_type": "execute_result",
          "data": {
            "text/plain": [
              "55"
            ]
          },
          "metadata": {
            "tags": []
          },
          "execution_count": 7
        }
      ]
    },
    {
      "metadata": {
        "id": "ugBz4ihJR2Nu",
        "colab_type": "code",
        "outputId": "edfe7914-ad54-4ab4-984a-49522b2e0144",
        "colab": {
          "base_uri": "https://localhost:8080/",
          "height": 34
        }
      },
      "cell_type": "code",
      "source": [
        "3 in Lista"
      ],
      "execution_count": 0,
      "outputs": [
        {
          "output_type": "execute_result",
          "data": {
            "text/plain": [
              "True"
            ]
          },
          "metadata": {
            "tags": []
          },
          "execution_count": 36
        }
      ]
    },
    {
      "metadata": {
        "id": "pKUIkqneSLZ-",
        "colab_type": "code",
        "outputId": "b142b4fb-5005-49ae-b21d-47e2287bc219",
        "colab": {
          "base_uri": "https://localhost:8080/",
          "height": 34
        }
      },
      "cell_type": "code",
      "source": [
        "Lista = [1,2,3,4,5,6,7,8,9,10]\n",
        "valor = 11\n",
        "try:\n",
        "  Lista.index(valor)\n",
        "  print(\"O valor está na posição\" , Lista.index(valor))\n",
        "except(ValueError):\n",
        "  print(\"O valor procurado não está na lista\")"
      ],
      "execution_count": 0,
      "outputs": [
        {
          "output_type": "stream",
          "text": [
            "O valor procurado não está na lista\n"
          ],
          "name": "stdout"
        }
      ]
    },
    {
      "metadata": {
        "id": "8IsNvBqbYq60",
        "colab_type": "code",
        "outputId": "1080449b-876d-4cf3-9992-2a08d03e0994",
        "colab": {
          "base_uri": "https://localhost:8080/",
          "height": 34
        }
      },
      "cell_type": "code",
      "source": [
        "# Tratamento de erro na chave\n",
        "\n",
        "Boletim = {\"José\": 3.5 , \"João\": 10.0 , \"Maria\": 7.5 , \"Pedro\": 4.2}\n",
        "\n",
        "nomedoaluno = \"Maria\"\n",
        "\n",
        "try:\n",
        "  print(\"A nota de\", nomedoaluno, \"é\", Boletim[nomedoaluno])\n",
        "except KeyError:\n",
        "  print(\"Aluno\", nomedoaluno, \"não encontrado\")"
      ],
      "execution_count": 0,
      "outputs": [
        {
          "output_type": "stream",
          "text": [
            "A nota de Maria é 7.5\n"
          ],
          "name": "stdout"
        }
      ]
    },
    {
      "metadata": {
        "id": "CQ2KaqjpbE3M",
        "colab_type": "code",
        "outputId": "db1261bb-319b-4586-bde5-babae40b3e56",
        "colab": {
          "base_uri": "https://localhost:8080/",
          "height": 34
        }
      },
      "cell_type": "code",
      "source": [
        "type(Boletim)"
      ],
      "execution_count": 0,
      "outputs": [
        {
          "output_type": "execute_result",
          "data": {
            "text/plain": [
              "dict"
            ]
          },
          "metadata": {
            "tags": []
          },
          "execution_count": 45
        }
      ]
    },
    {
      "metadata": {
        "id": "nt9FhIBqbces",
        "colab_type": "code",
        "colab": {}
      },
      "cell_type": "code",
      "source": [
        "conjunto = {1, 2, 3, 4, 5, 4} # conjunto não é ordenado e não tem repetições\n",
        "lista = [1, 2, 3, 4, 5, 4]    # lista tem repetição\n",
        "tupla = (1, 2, 3, 4, 5, 4)    # tupla é fixa"
      ],
      "execution_count": 0,
      "outputs": []
    },
    {
      "metadata": {
        "id": "hT4rDPO4bcbM",
        "colab_type": "code",
        "outputId": "e5ee8f60-073b-4f23-adb3-105839156394",
        "colab": {
          "base_uri": "https://localhost:8080/",
          "height": 34
        }
      },
      "cell_type": "code",
      "source": [
        "conjunto"
      ],
      "execution_count": 0,
      "outputs": [
        {
          "output_type": "execute_result",
          "data": {
            "text/plain": [
              "{1, 2, 3, 4, 5}"
            ]
          },
          "metadata": {
            "tags": []
          },
          "execution_count": 47
        }
      ]
    },
    {
      "metadata": {
        "id": "9Oq75-5rb1C0",
        "colab_type": "code",
        "outputId": "6c9c61e0-6e4a-4bdd-da15-a81182a75891",
        "colab": {
          "base_uri": "https://localhost:8080/",
          "height": 34
        }
      },
      "cell_type": "code",
      "source": [
        "lista"
      ],
      "execution_count": 0,
      "outputs": [
        {
          "output_type": "execute_result",
          "data": {
            "text/plain": [
              "[1, 2, 3, 4, 5, 4]"
            ]
          },
          "metadata": {
            "tags": []
          },
          "execution_count": 48
        }
      ]
    },
    {
      "metadata": {
        "id": "1z0QBkyZb5uk",
        "colab_type": "code",
        "outputId": "6f33dcda-bb1a-40e8-e07e-30a95020c760",
        "colab": {
          "base_uri": "https://localhost:8080/",
          "height": 34
        }
      },
      "cell_type": "code",
      "source": [
        "tupla"
      ],
      "execution_count": 0,
      "outputs": [
        {
          "output_type": "execute_result",
          "data": {
            "text/plain": [
              "(1, 2, 3, 4, 5, 4)"
            ]
          },
          "metadata": {
            "tags": []
          },
          "execution_count": 49
        }
      ]
    }
  ]
}