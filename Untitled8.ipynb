{
  "nbformat": 4,
  "nbformat_minor": 0,
  "metadata": {
    "colab": {
      "name": "Untitled8.ipynb",
      "version": "0.3.2",
      "provenance": [],
      "collapsed_sections": [],
      "include_colab_link": true
    },
    "kernelspec": {
      "name": "python3",
      "display_name": "Python 3"
    }
  },
  "cells": [
    {
      "cell_type": "markdown",
      "metadata": {
        "id": "view-in-github",
        "colab_type": "text"
      },
      "source": [
        "<a href=\"https://colab.research.google.com/github/felipekoeller/AuladeNivelamento/blob/master/Untitled8.ipynb\" target=\"_parent\"><img src=\"https://colab.research.google.com/assets/colab-badge.svg\" alt=\"Open In Colab\"/></a>"
      ]
    },
    {
      "metadata": {
        "id": "OMNb03vDJNBw",
        "colab_type": "code",
        "colab": {}
      },
      "cell_type": "code",
      "source": [
        ""
      ],
      "execution_count": 0,
      "outputs": []
    },
    {
      "metadata": {
        "id": "bhzOoXBxGIya",
        "colab_type": "text"
      },
      "cell_type": "markdown",
      "source": [
        "<h1 align=\"center\">Aula 4</h1>\n",
        "\n",
        "## Conteúdo\n",
        "\n",
        "- Entrada e saída (2): Web\n",
        "- Problema: Estruturando dados\n",
        "- Classes e objetos\n",
        "- Desafio: ?"
      ]
    },
    {
      "metadata": {
        "id": "gkGPEOVZGIyj",
        "colab_type": "text"
      },
      "cell_type": "markdown",
      "source": [
        "## Entrada e saída (2): Web"
      ]
    },
    {
      "metadata": {
        "id": "jz0hyUf_GIym",
        "colab_type": "text"
      },
      "cell_type": "markdown",
      "source": [
        "Podemos adquirir ou enviar dados de algum endereço na Web, usando a biblioteca requests:"
      ]
    },
    {
      "metadata": {
        "id": "KUodBLBDGIyp",
        "colab_type": "code",
        "outputId": "fba0f796-ab3f-400b-eb77-26f97c252ea8",
        "colab": {
          "base_uri": "https://localhost:8080/",
          "height": 35
        }
      },
      "cell_type": "code",
      "source": [
        "import requests\n",
        "\n",
        "parameters = {\"term1\": \"dog\", \n",
        "              \"term2\": \"wolf\", \n",
        "              \"pos1\": \"noun\", \n",
        "              \"pos2\": \"noun\"}\n",
        "\n",
        "url = \"http://labcores.ppgi.ufrj.br/tdv/similarity\"\n",
        "req = requests.get(url, params=parameters)\n",
        "req.json()\n"
      ],
      "execution_count": 0,
      "outputs": [
        {
          "output_type": "execute_result",
          "data": {
            "text/plain": [
              "0.6"
            ]
          },
          "metadata": {
            "tags": []
          },
          "execution_count": 2
        }
      ]
    },
    {
      "metadata": {
        "id": "0KhUVVkdGIy5",
        "colab_type": "code",
        "outputId": "5f09b952-9695-4239-fba2-c86543e3cc6d",
        "colab": {
          "base_uri": "https://localhost:8080/",
          "height": 35
        }
      },
      "cell_type": "code",
      "source": [
        "parameters = {\"term1\": \"happy\", \"term2\": \"joyful\", \n",
        "              \"pos1\": \"adjective\", \"pos2\": \"adjective\"}\n",
        "req = requests.get(url, params=parameters)\n",
        "req.json()"
      ],
      "execution_count": 0,
      "outputs": [
        {
          "output_type": "execute_result",
          "data": {
            "text/plain": [
              "0.707107"
            ]
          },
          "metadata": {
            "tags": []
          },
          "execution_count": 13
        }
      ]
    },
    {
      "metadata": {
        "id": "STsVal-CGIzD",
        "colab_type": "text"
      },
      "cell_type": "markdown",
      "source": [
        "## Problema: Estruturando dados"
      ]
    },
    {
      "metadata": {
        "id": "wDeDNxwfGIzF",
        "colab_type": "text"
      },
      "cell_type": "markdown",
      "source": [
        "Precisamos resolver o seguinte problema:\n",
        "Temos uma lista de alunos (matricula e nome) que precisam ser inscritos nos cursos, que estão registrados em outra lista (nome, professor e dependências). Além disso, os alunos precisam ter suas notas lançadas para cada disciplina.\n",
        "\n",
        "Como implementar as estruturas necessárias em Python?"
      ]
    },
    {
      "metadata": {
        "id": "rtpXv0tYGIzG",
        "colab_type": "code",
        "outputId": "64aef68c-e08e-45e7-e3a2-98e355d6e78c",
        "colab": {
          "base_uri": "https://localhost:8080/",
          "height": 34
        }
      },
      "cell_type": "code",
      "source": [
        "alunos =  [\n",
        "    {\"nome\": \"Rodrigo\", \"matricula\": 1}, \n",
        "    {\"nome\": \"João\", \"matricula\": 2},\n",
        "    {\"nome\": \"André\", \"matricula\": 3}\n",
        "]\n",
        "\n",
        "cursos = [\n",
        "    {\"nome\": \"Python 1\", \"professor\": \"prof 1\", \"id\": 1, \"dependencias\": []},\n",
        "    {\"nome\": \"Python 2\", \"professor\": \"prof 2\", \"id\": 2, \"dependencias\": [1,3]},\n",
        "    {\"nome\": \"Estatística\", \"professor\": \"prof 3\", \"id\": 3, \"dependencias\": [4]},\n",
        "    {\"nome\": \"Algebra\", \"professor\": \"prof 4\", \"id\": 4, \"dependencias\": []},\n",
        "    {\"nome\": \"R\", \"professor\": \"prof 3\", \"id\": 5, \"dependencias\": [1, 3]}\n",
        "]\n",
        "\n",
        "turmas = [\n",
        "    {\"id_curso\": 1, \"lista_inscritos\": [1, 3], \"ano\": 2019},\n",
        "    {\"id_curso\": 3, \"lista_inscritos\": [2], \"ano\": 2018},\n",
        "    {\"id_curso\": 2, \"lista_inscritos\": [2], \"ano\": 2019}\n",
        "]\n",
        "\n",
        "id_python = [curso for curso in cursos if (curso[\"nome\"] == \"Python 1\")][0][\"id\"]\n",
        "inscritos_python = [turma for turma in turmas \n",
        "                    if (turma[\"id_curso\"] == id_python)][0][\"lista_inscritos\"]\n",
        "nomes_alunos = [aluno[\"nome\"] for aluno in alunos if (aluno[\"matricula\"] in inscritos_python)]\n",
        "\n",
        "print(nomes_alunos)"
      ],
      "execution_count": 0,
      "outputs": [
        {
          "output_type": "stream",
          "text": [
            "['Rodrigo', 'Andr\\xc3\\xa9']\n"
          ],
          "name": "stdout"
        }
      ]
    },
    {
      "metadata": {
        "id": "EzgSBc31GIzO",
        "colab_type": "text"
      },
      "cell_type": "markdown",
      "source": [
        "## Classes e objetos"
      ]
    },
    {
      "metadata": {
        "id": "PROetbgcGIzU",
        "colab_type": "text"
      },
      "cell_type": "markdown",
      "source": [
        "Aprendemos a estruturar dados usando dicionários, que são bastante flexíveis e práticos. Mas precisamos de algo mais rígido para ajudar a organizar nossas estruturas de dados e reduzir erros de programação."
      ]
    },
    {
      "metadata": {
        "id": "Ytp0vuBaGIzV",
        "colab_type": "code",
        "colab": {}
      },
      "cell_type": "code",
      "source": [
        "aluno = {\"nome\": \"Joãozinho\", \"curso\": \"Estr. de Dados e Algoritmos\", \"matricula\": 12345678}\n",
        "\n",
        "aluno[\"nome\"]\n",
        "aluno[\"curso \"]\n",
        "# Ops!"
      ],
      "execution_count": 0,
      "outputs": []
    },
    {
      "metadata": {
        "id": "Ia1AGXLdGIzg",
        "colab_type": "text"
      },
      "cell_type": "markdown",
      "source": [
        "Para resolver isso, precisamos criar nossos próprios tipos, com campos específicos:"
      ]
    },
    {
      "metadata": {
        "id": "vU-CD8z_GIzl",
        "colab_type": "code",
        "outputId": "908b1177-c6b9-41be-822b-588d57317400",
        "colab": {
          "base_uri": "https://localhost:8080/",
          "height": 34
        }
      },
      "cell_type": "code",
      "source": [
        "class Aluno:\n",
        "    def __init__(self):  # Construtor da classe\n",
        "        self.nome = \"\"   # Atributo da classe\n",
        "        self.curso = \"\"\n",
        "        self.matricula = 0\n",
        "        \n",
        "aluno = Aluno()"
      ],
      "execution_count": 0,
      "outputs": [
        {
          "output_type": "execute_result",
          "data": {
            "text/plain": [
              "0"
            ]
          },
          "metadata": {
            "tags": []
          },
          "execution_count": 11
        }
      ]
    },
    {
      "metadata": {
        "id": "lFG3e3J8GIzq",
        "colab_type": "code",
        "outputId": "90f32ae4-b72a-4a64-c959-f727be128900",
        "colab": {}
      },
      "cell_type": "code",
      "source": [
        "import math\n",
        "\n",
        "class Retangulo:\n",
        "    def __init__(self, largura, altura):  \n",
        "        self.largura = largura\n",
        "        self.altura = altura\n",
        "    \n",
        "    def area(self):  # Método da classe\n",
        "        return self.largura * self.altura\n",
        "    \n",
        "    def diagonal(self):\n",
        "        return math.sqrt(self.largura ** 2 + self.altura ** 2)\n",
        "    \n",
        "    \n",
        "class Quadrado(Retangulo):  # Quadrado é um subtipo de Retangulo\n",
        "    def __init__(self, lado):\n",
        "        self.largura = lado\n",
        "        self.altura = lado\n",
        "        \n",
        "\n",
        "ret = Retangulo(3, 4)\n",
        "print(ret.area())\n",
        "print(ret.diagonal())\n",
        "\n",
        "quad = Quadrado(1)\n",
        "print(quad.area())\n",
        "print(quad.diagonal())"
      ],
      "execution_count": 0,
      "outputs": [
        {
          "output_type": "stream",
          "text": [
            "12\n",
            "5.0\n",
            "1\n",
            "1.41421356237\n"
          ],
          "name": "stdout"
        }
      ]
    },
    {
      "metadata": {
        "id": "WtBC2mcUGQVk",
        "colab_type": "text"
      },
      "cell_type": "markdown",
      "source": [
        "## Desafio: ?"
      ]
    },
    {
      "metadata": {
        "id": "nQlt-Ml0GV-i",
        "colab_type": "text"
      },
      "cell_type": "markdown",
      "source": [
        ""
      ]
    },
    {
      "metadata": {
        "id": "qWQceRSZGSZU",
        "colab_type": "code",
        "colab": {}
      },
      "cell_type": "code",
      "source": [
        ""
      ],
      "execution_count": 0,
      "outputs": []
    }
  ]
}