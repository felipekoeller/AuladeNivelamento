{
  "nbformat": 4,
  "nbformat_minor": 0,
  "metadata": {
    "colab": {
      "name": "Untitled4.ipynb",
      "version": "0.3.2",
      "provenance": [],
      "collapsed_sections": [],
      "include_colab_link": true
    },
    "kernelspec": {
      "name": "python3",
      "display_name": "Python 3"
    }
  },
  "cells": [
    {
      "cell_type": "markdown",
      "metadata": {
        "id": "view-in-github",
        "colab_type": "text"
      },
      "source": [
        "<a href=\"https://colab.research.google.com/github/felipekoeller/AuladeNivelamento/blob/master/Untitled4.ipynb\" target=\"_parent\"><img src=\"https://colab.research.google.com/assets/colab-badge.svg\" alt=\"Open In Colab\"/></a>"
      ]
    },
    {
      "metadata": {
        "id": "emGot6rLeveQ",
        "colab_type": "code",
        "colab": {}
      },
      "cell_type": "code",
      "source": [
        "import requests\n",
        "import json\n",
        "\n",
        "lista = json.loads(requests.get(\"https://bit.ly/2RXuXsD\").text)\n"
      ],
      "execution_count": 0,
      "outputs": []
    },
    {
      "metadata": {
        "id": "yUffWGEze_lm",
        "colab_type": "code",
        "colab": {
          "base_uri": "https://localhost:8080/",
          "height": 34
        },
        "outputId": "8ebac744-6ee4-4822-9dee-5ac833052717"
      },
      "cell_type": "code",
      "source": [
        "contador = {}\n",
        "\n",
        "for x in lista:\n",
        "  if (x in contador):\n",
        "    contador[x] += 1\n",
        "  else:\n",
        "    contador[x] = 1\n",
        "    \n",
        "contador\n",
        "\n",
        "type(contador.keys())"
      ],
      "execution_count": 4,
      "outputs": [
        {
          "output_type": "execute_result",
          "data": {
            "text/plain": [
              "dict_keys"
            ]
          },
          "metadata": {
            "tags": []
          },
          "execution_count": 4
        }
      ]
    },
    {
      "metadata": {
        "id": "hQftl-1sfP-U",
        "colab_type": "code",
        "colab": {
          "base_uri": "https://localhost:8080/",
          "height": 1771
        },
        "outputId": "bf977ff1-65d8-4f58-8bdb-4876e493c2f2"
      },
      "cell_type": "code",
      "source": [
        "from collections import Counter\n",
        "\n",
        "contador = Counter(lista)\n",
        "contador"
      ],
      "execution_count": 5,
      "outputs": [
        {
          "output_type": "execute_result",
          "data": {
            "text/plain": [
              "Counter({0: 13,\n",
              "         1: 10,\n",
              "         2: 15,\n",
              "         3: 5,\n",
              "         4: 9,\n",
              "         5: 9,\n",
              "         6: 10,\n",
              "         7: 15,\n",
              "         8: 7,\n",
              "         9: 9,\n",
              "         10: 9,\n",
              "         11: 10,\n",
              "         12: 6,\n",
              "         13: 6,\n",
              "         14: 19,\n",
              "         15: 11,\n",
              "         16: 7,\n",
              "         17: 7,\n",
              "         18: 8,\n",
              "         19: 9,\n",
              "         20: 6,\n",
              "         21: 8,\n",
              "         22: 4,\n",
              "         23: 6,\n",
              "         24: 7,\n",
              "         25: 7,\n",
              "         26: 18,\n",
              "         27: 9,\n",
              "         28: 11,\n",
              "         29: 14,\n",
              "         30: 10,\n",
              "         31: 11,\n",
              "         32: 11,\n",
              "         33: 10,\n",
              "         34: 10,\n",
              "         35: 6,\n",
              "         36: 12,\n",
              "         37: 9,\n",
              "         38: 6,\n",
              "         39: 13,\n",
              "         40: 9,\n",
              "         41: 14,\n",
              "         42: 9,\n",
              "         43: 9,\n",
              "         44: 7,\n",
              "         45: 5,\n",
              "         46: 3,\n",
              "         47: 12,\n",
              "         48: 11,\n",
              "         49: 10,\n",
              "         50: 14,\n",
              "         51: 12,\n",
              "         52: 14,\n",
              "         53: 13,\n",
              "         54: 12,\n",
              "         55: 8,\n",
              "         56: 7,\n",
              "         57: 9,\n",
              "         58: 8,\n",
              "         59: 7,\n",
              "         60: 12,\n",
              "         61: 6,\n",
              "         62: 10,\n",
              "         63: 10,\n",
              "         64: 10,\n",
              "         65: 10,\n",
              "         66: 13,\n",
              "         67: 9,\n",
              "         68: 12,\n",
              "         69: 10,\n",
              "         70: 7,\n",
              "         71: 8,\n",
              "         72: 9,\n",
              "         73: 13,\n",
              "         74: 14,\n",
              "         75: 7,\n",
              "         76: 13,\n",
              "         77: 4,\n",
              "         78: 9,\n",
              "         79: 6,\n",
              "         80: 15,\n",
              "         81: 8,\n",
              "         82: 14,\n",
              "         83: 14,\n",
              "         84: 9,\n",
              "         85: 12,\n",
              "         86: 7,\n",
              "         87: 10,\n",
              "         88: 6,\n",
              "         89: 16,\n",
              "         90: 14,\n",
              "         91: 6,\n",
              "         92: 13,\n",
              "         93: 15,\n",
              "         94: 10,\n",
              "         95: 11,\n",
              "         96: 12,\n",
              "         97: 7,\n",
              "         98: 12,\n",
              "         99: 10,\n",
              "         100: 12})"
            ]
          },
          "metadata": {
            "tags": []
          },
          "execution_count": 5
        }
      ]
    },
    {
      "metadata": {
        "id": "YvtK45umfUeU",
        "colab_type": "code",
        "colab": {
          "base_uri": "https://localhost:8080/",
          "height": 54
        },
        "outputId": "fb49a189-8544-41a5-988b-c2b22062aac2"
      },
      "cell_type": "code",
      "source": [
        "texto = requests.get(\"https://bit.ly/2Cu73N6\").text\n",
        "texto"
      ],
      "execution_count": 8,
      "outputs": [
        {
          "output_type": "execute_result",
          "data": {
            "text/plain": [
              "'Dear Partner,\\n\\nWe are very excited to inform you that \\nthe Docker Partner Team will be hosting a \\ndedicated Partner Event, right before the beginning \\nof DockerCon Europe on Dec 3rd, 2018 in Barcelona. \\nWe are delighted to invite you! \\n\\nWith most of our executive leaders on stage, \\nwe aim to deliver strong value to you by turning \\nour partner strategy into reality.\\nWe will update you on the Docker Enterprise \\nsales and technical messaging to equip you \\nbetter addressing our numerous business opportunities \\nand building further upon our successful engagement. \\n\\nPlease save the date for the 2018 Docker Partner Day: \\nDecember 3rd, from 12:00-17:00 in Barcelona, CCIB, \\nPlaca de Willy Brandt 11-14. More about the agenda \\nunder this link. We look forward to seeing you there. \\n\\nThank you, \\nGuy Martin, Director Channel and Alliances and the Docker Partner Team '"
            ]
          },
          "metadata": {
            "tags": []
          },
          "execution_count": 8
        }
      ]
    },
    {
      "metadata": {
        "id": "Cpncocc7frqa",
        "colab_type": "code",
        "colab": {
          "base_uri": "https://localhost:8080/",
          "height": 2448
        },
        "outputId": "e32dcf3e-b539-47bd-d278-6990a81e68bf"
      },
      "cell_type": "code",
      "source": [
        "texto.split()\n"
      ],
      "execution_count": 10,
      "outputs": [
        {
          "output_type": "execute_result",
          "data": {
            "text/plain": [
              "['Dear',\n",
              " 'Partner,',\n",
              " 'We',\n",
              " 'are',\n",
              " 'very',\n",
              " 'excited',\n",
              " 'to',\n",
              " 'inform',\n",
              " 'you',\n",
              " 'that',\n",
              " 'the',\n",
              " 'Docker',\n",
              " 'Partner',\n",
              " 'Team',\n",
              " 'will',\n",
              " 'be',\n",
              " 'hosting',\n",
              " 'a',\n",
              " 'dedicated',\n",
              " 'Partner',\n",
              " 'Event,',\n",
              " 'right',\n",
              " 'before',\n",
              " 'the',\n",
              " 'beginning',\n",
              " 'of',\n",
              " 'DockerCon',\n",
              " 'Europe',\n",
              " 'on',\n",
              " 'Dec',\n",
              " '3rd,',\n",
              " '2018',\n",
              " 'in',\n",
              " 'Barcelona.',\n",
              " 'We',\n",
              " 'are',\n",
              " 'delighted',\n",
              " 'to',\n",
              " 'invite',\n",
              " 'you!',\n",
              " 'With',\n",
              " 'most',\n",
              " 'of',\n",
              " 'our',\n",
              " 'executive',\n",
              " 'leaders',\n",
              " 'on',\n",
              " 'stage,',\n",
              " 'we',\n",
              " 'aim',\n",
              " 'to',\n",
              " 'deliver',\n",
              " 'strong',\n",
              " 'value',\n",
              " 'to',\n",
              " 'you',\n",
              " 'by',\n",
              " 'turning',\n",
              " 'our',\n",
              " 'partner',\n",
              " 'strategy',\n",
              " 'into',\n",
              " 'reality.',\n",
              " 'We',\n",
              " 'will',\n",
              " 'update',\n",
              " 'you',\n",
              " 'on',\n",
              " 'the',\n",
              " 'Docker',\n",
              " 'Enterprise',\n",
              " 'sales',\n",
              " 'and',\n",
              " 'technical',\n",
              " 'messaging',\n",
              " 'to',\n",
              " 'equip',\n",
              " 'you',\n",
              " 'better',\n",
              " 'addressing',\n",
              " 'our',\n",
              " 'numerous',\n",
              " 'business',\n",
              " 'opportunities',\n",
              " 'and',\n",
              " 'building',\n",
              " 'further',\n",
              " 'upon',\n",
              " 'our',\n",
              " 'successful',\n",
              " 'engagement.',\n",
              " 'Please',\n",
              " 'save',\n",
              " 'the',\n",
              " 'date',\n",
              " 'for',\n",
              " 'the',\n",
              " '2018',\n",
              " 'Docker',\n",
              " 'Partner',\n",
              " 'Day:',\n",
              " 'December',\n",
              " '3rd,',\n",
              " 'from',\n",
              " '12:00-17:00',\n",
              " 'in',\n",
              " 'Barcelona,',\n",
              " 'CCIB,',\n",
              " 'Placa',\n",
              " 'de',\n",
              " 'Willy',\n",
              " 'Brandt',\n",
              " '11-14.',\n",
              " 'More',\n",
              " 'about',\n",
              " 'the',\n",
              " 'agenda',\n",
              " 'under',\n",
              " 'this',\n",
              " 'link.',\n",
              " 'We',\n",
              " 'look',\n",
              " 'forward',\n",
              " 'to',\n",
              " 'seeing',\n",
              " 'you',\n",
              " 'there.',\n",
              " 'Thank',\n",
              " 'you,',\n",
              " 'Guy',\n",
              " 'Martin,',\n",
              " 'Director',\n",
              " 'Channel',\n",
              " 'and',\n",
              " 'Alliances',\n",
              " 'and',\n",
              " 'the',\n",
              " 'Docker',\n",
              " 'Partner',\n",
              " 'Team']"
            ]
          },
          "metadata": {
            "tags": []
          },
          "execution_count": 10
        }
      ]
    },
    {
      "metadata": {
        "id": "vGNnRm6If41k",
        "colab_type": "code",
        "colab": {
          "base_uri": "https://localhost:8080/",
          "height": 34
        },
        "outputId": "246264dd-6b89-4b84-f4fe-665ecc8e8035"
      },
      "cell_type": "code",
      "source": [
        "numero = 1\n",
        "decimal = 1.1\n",
        "palavra = \"texto\"\n",
        "lista = [1, 2, 3, \"a\", \"b\", \"c\"]\n",
        "type (numero)\n",
        "type (palavra)\n",
        "type (decimal)\n",
        "type (lista)"
      ],
      "execution_count": 20,
      "outputs": [
        {
          "output_type": "execute_result",
          "data": {
            "text/plain": [
              "list"
            ]
          },
          "metadata": {
            "tags": []
          },
          "execution_count": 20
        }
      ]
    },
    {
      "metadata": {
        "id": "yO18RxU-k-Fk",
        "colab_type": "code",
        "colab": {}
      },
      "cell_type": "code",
      "source": [
        "from collections import Counter\n",
        "\n",
        "\n",
        "def contaCoisas(entrada):\n",
        "    if type(entrada) == type([]):\n",
        "       contador = contaLista(entrada)\n",
        "    elif type(entrada)== type(str()):\n",
        "       contador = contaTexto(entrada)\n",
        "    else:\n",
        "       print(\"A entrada deve ser uma lista ou um texto\")\n",
        "        \n",
        "    return contador\n",
        "  \n",
        "  \n",
        "def contaLista(lista):\n",
        "    return Counter(lista)\n",
        "  \n",
        "def contaTexto(texto):\n",
        "    return Counter(texto.split())\n",
        "  \n",
        "  "
      ],
      "execution_count": 0,
      "outputs": []
    },
    {
      "metadata": {
        "id": "2U_Al_X6k-CG",
        "colab_type": "code",
        "colab": {
          "base_uri": "https://localhost:8080/",
          "height": 34
        },
        "outputId": "29a8d4e9-f174-4b7c-a3c4-cb9ba0db1608"
      },
      "cell_type": "code",
      "source": [
        "contaCoisas(\"olá me conte\")"
      ],
      "execution_count": 24,
      "outputs": [
        {
          "output_type": "execute_result",
          "data": {
            "text/plain": [
              "Counter({'conte': 1, 'me': 1, 'olá': 1})"
            ]
          },
          "metadata": {
            "tags": []
          },
          "execution_count": 24
        }
      ]
    },
    {
      "metadata": {
        "id": "K7u9aDqTrWeu",
        "colab_type": "code",
        "colab": {
          "base_uri": "https://localhost:8080/",
          "height": 34
        },
        "outputId": "97ef9f62-96ab-4eeb-99ae-ec1423bb26f9"
      },
      "cell_type": "code",
      "source": [
        "contaCoisas([1,2,3,4,5,6,6,6,6,6,6,6])"
      ],
      "execution_count": 28,
      "outputs": [
        {
          "output_type": "execute_result",
          "data": {
            "text/plain": [
              "Counter({1: 1, 2: 1, 3: 1, 4: 1, 5: 1, 6: 7})"
            ]
          },
          "metadata": {
            "tags": []
          },
          "execution_count": 28
        }
      ]
    }
  ]
}